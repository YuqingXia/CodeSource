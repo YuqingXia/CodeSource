{
 "cells": [
  {
   "cell_type": "markdown",
   "metadata": {},
   "source": [
    "### Ljung-Box test for no autocorrelation"
   ]
  },
  {
   "cell_type": "code",
   "execution_count": 144,
   "metadata": {
    "collapsed": false
   },
   "outputs": [
    {
     "name": "stdout",
     "output_type": "stream",
     "text": [
      "The autoreload extension is already loaded. To reload it, use:\n",
      "  %reload_ext autoreload\n"
     ]
    }
   ],
   "source": [
    "%load_ext autoreload\n",
    "%autoreload 2"
   ]
  },
  {
   "cell_type": "code",
   "execution_count": 203,
   "metadata": {
    "collapsed": false,
    "scrolled": true
   },
   "outputs": [],
   "source": [
    "from TimeSeries import *\n",
    "r0=[1]\n",
    "phi=[0,0.99]\n",
    "rt=ARModel(phi,r0,100,0.01)\n",
    "rt1=MAModel(1.0,[.00],10000,1.0)"
   ]
  },
  {
   "cell_type": "code",
   "execution_count": 204,
   "metadata": {
    "collapsed": false
   },
   "outputs": [],
   "source": [
    "from statsmodels.stats.diagnostic import acorr_ljungbox\n",
    "from statsmodels.tsa.stattools import adfuller\n",
    "rslt=acorr_ljungbox(rt,lags=10,boxpierce=True)\n",
    "rslt1=acorr_ljungbox(rt1,lags=10,boxpierce=True)\n",
    "rslt_stat=adfuller(rt)"
   ]
  },
  {
   "cell_type": "code",
   "execution_count": 205,
   "metadata": {
    "collapsed": false
   },
   "outputs": [
    {
     "name": "stdout",
     "output_type": "stream",
     "text": [
      "(-1.7974229862999695, 0.3817418579009082, 2L, 97L, {'5%': -2.8918307730370025, '1%': -3.4996365338407074, '10%': -2.5829283377617176}, -551.9937228435399)\n"
     ]
    }
   ],
   "source": [
    "print rslt_stat"
   ]
  },
  {
   "cell_type": "code",
   "execution_count": 207,
   "metadata": {
    "collapsed": true
   },
   "outputs": [],
   "source": [
    "with open('test.txt','r') as ifile:\n",
    "    y=[]\n",
    "    for line in ifile:\n",
    "        y.append(float(line))"
   ]
  },
  {
   "cell_type": "code",
   "execution_count": 209,
   "metadata": {
    "collapsed": false
   },
   "outputs": [],
   "source": [
    "y=np.asarray(y)"
   ]
  },
  {
   "cell_type": "code",
   "execution_count": 211,
   "metadata": {
    "collapsed": false
   },
   "outputs": [],
   "source": [
    "res=y-y.mean()"
   ]
  },
  {
   "cell_type": "code",
   "execution_count": 214,
   "metadata": {
    "collapsed": false
   },
   "outputs": [
    {
     "data": {
      "text/plain": [
       "(array([ 19.36044047,  30.59859933,  36.96393946]),\n",
       " array([ 0.00164647,  0.00068328,  0.00128095]),\n",
       " array([ 18.24358711,  27.60952685,  32.32439481]),\n",
       " array([ 0.00265612,  0.00208406,  0.00581414]))"
      ]
     },
     "execution_count": 214,
     "metadata": {},
     "output_type": "execute_result"
    }
   ],
   "source": [
    "acorr_ljungbox(res,lags=[5,10,15],boxpierce=True)"
   ]
  },
  {
   "cell_type": "code",
   "execution_count": null,
   "metadata": {
    "collapsed": true
   },
   "outputs": [],
   "source": []
  }
 ],
 "metadata": {
  "kernelspec": {
   "display_name": "Python 2",
   "language": "python",
   "name": "python2"
  },
  "language_info": {
   "codemirror_mode": {
    "name": "ipython",
    "version": 2
   },
   "file_extension": ".py",
   "mimetype": "text/x-python",
   "name": "python",
   "nbconvert_exporter": "python",
   "pygments_lexer": "ipython2",
   "version": "2.7.5"
  }
 },
 "nbformat": 4,
 "nbformat_minor": 0
}

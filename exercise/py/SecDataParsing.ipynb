{
 "cells": [
  {
   "cell_type": "code",
   "execution_count": 1,
   "metadata": {
    "collapsed": true
   },
   "outputs": [],
   "source": [
    "from lxml import html\n",
    "import requests"
   ]
  },
  {
   "cell_type": "code",
   "execution_count": 2,
   "metadata": {
    "collapsed": true,
    "run_control": {
     "breakpoint": false
    }
   },
   "outputs": [],
   "source": [
    "page = requests.get('http://econpy.pythonanywhere.com/ex/001.html')\n",
    "tree = html.fromstring(page.content)"
   ]
  },
  {
   "cell_type": "code",
   "execution_count": 7,
   "metadata": {
    "collapsed": false,
    "run_control": {
     "breakpoint": false
    }
   },
   "outputs": [
    {
     "data": {
      "text/plain": [
       "['Carson Busses',\n",
       " 'Earl E. Byrd',\n",
       " 'Patty Cakes',\n",
       " 'Derri Anne Connecticut',\n",
       " 'Moe Dess',\n",
       " 'Leda Doggslife',\n",
       " 'Dan Druff',\n",
       " 'Al Fresco',\n",
       " 'Ido Hoe',\n",
       " 'Howie Kisses',\n",
       " 'Len Lease',\n",
       " 'Phil Meup',\n",
       " 'Ira Pent',\n",
       " 'Ben D. Rules',\n",
       " 'Ave Sectomy',\n",
       " 'Gary Shattire',\n",
       " 'Bobbi Soks',\n",
       " 'Sheila Takya',\n",
       " 'Rose Tattoo',\n",
       " 'Moe Tell']"
      ]
     },
     "execution_count": 7,
     "metadata": {},
     "output_type": "execute_result"
    }
   ],
   "source": [
    "tree.xpath('//div[@title=\"buyer-name\"]/text()')"
   ]
  },
  {
   "cell_type": "code",
   "execution_count": null,
   "metadata": {
    "collapsed": true,
    "run_control": {
     "breakpoint": false
    }
   },
   "outputs": [],
   "source": []
  }
 ],
 "metadata": {
  "kernelspec": {
   "display_name": "Python 2",
   "language": "python",
   "name": "python2"
  },
  "language_info": {
   "codemirror_mode": {
    "name": "ipython",
    "version": 2
   },
   "file_extension": ".py",
   "mimetype": "text/x-python",
   "name": "python",
   "nbconvert_exporter": "python",
   "pygments_lexer": "ipython2",
   "version": "2.7.5"
  }
 },
 "nbformat": 4,
 "nbformat_minor": 0
}

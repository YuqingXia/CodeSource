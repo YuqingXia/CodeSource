{
 "cells": [
  {
   "cell_type": "code",
   "execution_count": 19,
   "metadata": {
    "collapsed": true,
    "run_control": {
     "breakpoint": false
    }
   },
   "outputs": [],
   "source": [
    "%matplotlib inline\n",
    "import matplotlib.pyplot as plt\n",
    "import scipy as sp\n",
    "from scipy import stats\n",
    "import numpy as np\n",
    "from sklearn.decomposition import PCA"
   ]
  },
  {
   "cell_type": "code",
   "execution_count": 3,
   "metadata": {
    "collapsed": true
   },
   "outputs": [],
   "source": [
    "beta1=[1,1]\n",
    "beta2=[-1,1]"
   ]
  },
  {
   "cell_type": "code",
   "execution_count": 4,
   "metadata": {
    "collapsed": false,
    "run_control": {
     "breakpoint": false
    }
   },
   "outputs": [],
   "source": [
    "fn=stats.norm()"
   ]
  },
  {
   "cell_type": "code",
   "execution_count": 5,
   "metadata": {
    "collapsed": false,
    "run_control": {
     "breakpoint": false
    }
   },
   "outputs": [],
   "source": [
    "alpha1=fn.rvs(size=100)+1"
   ]
  },
  {
   "cell_type": "code",
   "execution_count": 6,
   "metadata": {
    "collapsed": false,
    "run_control": {
     "breakpoint": false
    }
   },
   "outputs": [],
   "source": [
    "alpha2=fn.rvs(size=100)*0.01+2"
   ]
  },
  {
   "cell_type": "code",
   "execution_count": null,
   "metadata": {
    "collapsed": false,
    "run_control": {
     "breakpoint": false
    }
   },
   "outputs": [],
   "source": [
    "np.matrix(alpha1).T*np.matrix(beta1)"
   ]
  },
  {
   "cell_type": "code",
   "execution_count": 7,
   "metadata": {
    "collapsed": false,
    "run_control": {
     "breakpoint": false
    }
   },
   "outputs": [
    {
     "data": {
      "text/plain": [
       "matrix([[1, 1]])"
      ]
     },
     "execution_count": 7,
     "metadata": {},
     "output_type": "execute_result"
    }
   ],
   "source": [
    "np.matrix(beta1)"
   ]
  },
  {
   "cell_type": "code",
   "execution_count": 11,
   "metadata": {
    "collapsed": false,
    "run_control": {
     "breakpoint": false
    }
   },
   "outputs": [],
   "source": [
    "X=np.matrix(alpha1).T*np.matrix(beta1)+np.matrix(alpha2).T*np.matrix(beta2)"
   ]
  },
  {
   "cell_type": "code",
   "execution_count": 20,
   "metadata": {
    "collapsed": false,
    "run_control": {
     "breakpoint": false
    }
   },
   "outputs": [],
   "source": [
    "pca=PCA()"
   ]
  },
  {
   "cell_type": "code",
   "execution_count": 21,
   "metadata": {
    "collapsed": false,
    "run_control": {
     "breakpoint": false
    }
   },
   "outputs": [
    {
     "data": {
      "text/plain": [
       "PCA(copy=True, n_components=None, whiten=False)"
      ]
     },
     "execution_count": 21,
     "metadata": {},
     "output_type": "execute_result"
    }
   ],
   "source": [
    "pca.fit(X)"
   ]
  },
  {
   "cell_type": "code",
   "execution_count": 22,
   "metadata": {
    "collapsed": false,
    "run_control": {
     "breakpoint": false
    }
   },
   "outputs": [
    {
     "data": {
      "text/plain": [
       "array([[-0.70763114, -0.70658203],\n",
       "       [-0.70658203,  0.70763114]])"
      ]
     },
     "execution_count": 22,
     "metadata": {},
     "output_type": "execute_result"
    }
   ],
   "source": [
    "pca.components_"
   ]
  },
  {
   "cell_type": "code",
   "execution_count": 24,
   "metadata": {
    "collapsed": false,
    "run_control": {
     "breakpoint": false
    }
   },
   "outputs": [
    {
     "data": {
      "text/plain": [
       "array([ 1.45268054,  0.01582526])"
      ]
     },
     "execution_count": 24,
     "metadata": {},
     "output_type": "execute_result"
    }
   ],
   "source": [
    "np.sqrt(pca.explained_variance_)"
   ]
  },
  {
   "cell_type": "code",
   "execution_count": 25,
   "metadata": {
    "collapsed": true,
    "run_control": {
     "breakpoint": false
    }
   },
   "outputs": [],
   "source": [
    "X=[np.sin(2*np.pi*np.arange(0,100)*0.1),np.cos(2*np.pi*np.arange(0,100))]"
   ]
  },
  {
   "cell_type": "code",
   "execution_count": 26,
   "metadata": {
    "collapsed": false,
    "run_control": {
     "breakpoint": false
    }
   },
   "outputs": [
    {
     "data": {
      "text/plain": [
       "[array([  0.00000000e+00,   5.87785252e-01,   9.51056516e-01,\n",
       "          9.51056516e-01,   5.87785252e-01,   1.22464680e-16,\n",
       "         -5.87785252e-01,  -9.51056516e-01,  -9.51056516e-01,\n",
       "         -5.87785252e-01,  -2.44929360e-16,   5.87785252e-01,\n",
       "          9.51056516e-01,   9.51056516e-01,   5.87785252e-01,\n",
       "          3.67394040e-16,  -5.87785252e-01,  -9.51056516e-01,\n",
       "         -9.51056516e-01,  -5.87785252e-01,  -4.89858720e-16,\n",
       "          5.87785252e-01,   9.51056516e-01,   9.51056516e-01,\n",
       "          5.87785252e-01,  -1.16403344e-15,  -5.87785252e-01,\n",
       "         -9.51056516e-01,  -9.51056516e-01,  -5.87785252e-01,\n",
       "         -7.34788079e-16,   5.87785252e-01,   9.51056516e-01,\n",
       "          9.51056516e-01,   5.87785252e-01,   8.57252759e-16,\n",
       "         -5.87785252e-01,  -9.51056516e-01,  -9.51056516e-01,\n",
       "         -5.87785252e-01,  -9.79717439e-16,   5.87785252e-01,\n",
       "          9.51056516e-01,   9.51056516e-01,   5.87785252e-01,\n",
       "         -2.45053156e-15,  -5.87785252e-01,  -9.51056516e-01,\n",
       "         -9.51056516e-01,  -5.87785252e-01,   2.32806688e-15,\n",
       "          5.87785252e-01,   9.51056516e-01,   9.51056516e-01,\n",
       "          5.87785252e-01,  -2.20560220e-15,  -5.87785252e-01,\n",
       "         -9.51056516e-01,  -9.51056516e-01,  -5.87785252e-01,\n",
       "         -1.46957616e-15,   5.87785252e-01,   9.51056516e-01,\n",
       "          9.51056516e-01,   5.87785252e-01,  -1.96067284e-15,\n",
       "         -5.87785252e-01,  -9.51056516e-01,  -9.51056516e-01,\n",
       "         -5.87785252e-01,  -1.71450552e-15,   5.87785252e-01,\n",
       "          9.51056516e-01,   9.51056516e-01,   5.87785252e-01,\n",
       "         -1.71574348e-15,  -5.87785252e-01,  -9.51056516e-01,\n",
       "         -9.51056516e-01,  -5.87785252e-01,  -1.95943488e-15,\n",
       "          5.87785252e-01,   9.51056516e-01,   9.51056516e-01,\n",
       "          5.87785252e-01,  -1.47081412e-15,  -5.87785252e-01,\n",
       "         -9.51056516e-01,  -9.51056516e-01,  -5.87785252e-01,\n",
       "          4.90106312e-15,   5.87785252e-01,   9.51056516e-01,\n",
       "          9.51056516e-01,   5.87785252e-01,  -1.22588476e-15,\n",
       "         -5.87785252e-01,  -9.51056516e-01,  -9.51056516e-01,\n",
       "         -5.87785252e-01])]"
      ]
     },
     "execution_count": 26,
     "metadata": {},
     "output_type": "execute_result"
    }
   ],
   "source": [
    "X"
   ]
  },
  {
   "cell_type": "code",
   "execution_count": null,
   "metadata": {
    "collapsed": true,
    "run_control": {
     "breakpoint": false
    }
   },
   "outputs": [],
   "source": []
  }
 ],
 "metadata": {
  "kernelspec": {
   "display_name": "Python 2",
   "language": "python",
   "name": "python2"
  },
  "language_info": {
   "codemirror_mode": {
    "name": "ipython",
    "version": 2
   },
   "file_extension": ".py",
   "mimetype": "text/x-python",
   "name": "python",
   "nbconvert_exporter": "python",
   "pygments_lexer": "ipython2",
   "version": "2.7.12"
  }
 },
 "nbformat": 4,
 "nbformat_minor": 0
}
